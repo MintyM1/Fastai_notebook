{
 "cells": [
  {
   "cell_type": "markdown",
   "id": "ce2eb989",
   "metadata": {},
   "source": [
    "# Summary for FastAi practical coding"
   ]
  },
  {
   "cell_type": "markdown",
   "id": "c5d61dd9",
   "metadata": {},
   "source": [
    "## Lesson 2 (introduction to dataloaders)"
   ]
  },
  {
   "cell_type": "code",
   "execution_count": 2,
   "id": "7e6f7d40",
   "metadata": {},
   "outputs": [],
   "source": [
    "#hide\n",
    "# !pip install -Uqq fastbook\n",
    "import fastbook\n",
    "fastbook.setup_book()"
   ]
  },
  {
   "cell_type": "code",
   "execution_count": 3,
   "id": "749b06aa",
   "metadata": {},
   "outputs": [],
   "source": [
    "#hide\n",
    "from fastbook import *\n",
    "from fastai.vision.widgets import *"
   ]
  },
  {
   "cell_type": "markdown",
   "id": "bf023a9e",
   "metadata": {},
   "source": [
    "### Dataloaders\n",
    "\n",
    "Datablock - Defines\n",
    "1. blocks (type of data item)\n",
    "2. where the data is contained\n",
    "3. data labelling (get y, get x or get image)\n",
    "4. validation set\n",
    "    "
   ]
  },
  {
   "cell_type": "code",
   "execution_count": 5,
   "id": "2b4774f8",
   "metadata": {},
   "outputs": [],
   "source": [
    "# Example\n",
    "\n",
    "bears = DataBlock(\n",
    "    blocks=(ImageBlock, CategoryBlock), \n",
    "    get_items=get_image_files, \n",
    "    splitter=RandomSplitter(valid_pct=0.2, seed=42),\n",
    "    get_y=parent_label,\n",
    "    item_tfms=Resize(128))"
   ]
  },
  {
   "cell_type": "code",
   "execution_count": null,
   "id": "8d07f683",
   "metadata": {},
   "outputs": [],
   "source": [
    "# All Datablocks need to specify where images / data is located to make a dataloaders\n",
    "dls = bears.dataloaders(path)\n"
   ]
  },
  {
   "cell_type": "markdown",
   "id": "d6dd98b1",
   "metadata": {},
   "source": [
    "1. Data, get_y, block type, splitter\n",
    "2. item transforms \n",
    "3. --> datablock.dataloaders(image location) --> dataloaders\n",
    "4. dataloaders.learn()"
   ]
  },
  {
   "cell_type": "markdown",
   "id": "a0b96bb6",
   "metadata": {},
   "source": [
    "From a Datablock with relevant information, now have a Dataloaders"
   ]
  },
  {
   "cell_type": "markdown",
   "id": "5db8bd46",
   "metadata": {},
   "source": [
    "### Item transforms and aug transforms\n",
    "\n",
    "Item transforms - run on each item such as Resize\n",
    "\n",
    "Resize - makes the tensors the same size, can pad with squish (stretches) and zeros (black bars)\n",
    "\n",
    "Standard approach = RandomResizeCrop (set size, min_scale = how much to zoom)\n"
   ]
  },
  {
   "cell_type": "code",
   "execution_count": 8,
   "id": "8d308fd6",
   "metadata": {},
   "outputs": [],
   "source": [
    "# bears = bears.new(item_tfms=RandomResizedCrop(128, min_scale=0.3))\n",
    "# dls = bears.dataloaders(path)\n",
    "# dls.train.show_batch(max_n=4, nrows=1, unique=True)\n"
   ]
  },
  {
   "cell_type": "markdown",
   "id": "d1b05a11",
   "metadata": {},
   "source": [
    "Data Augmentation is 'pseudo-labelling'\n",
    "Examples of common data augmentation techniques for images are rotation, flipping, perspective warping, brightness changes and contrast changes\n",
    "\n",
    "### batch_tfms = "
   ]
  },
  {
   "cell_type": "code",
   "execution_count": null,
   "id": "7c444814",
   "metadata": {},
   "outputs": [],
   "source": [
    "# bears = bears.new(item_tfms=Resize(128), batch_tfms=aug_transforms(mult=2))\n",
    "# dls = bears.dataloaders(path)\n",
    "# dls.train.show_batch(max_n=8, nrows=2, unique=True)"
   ]
  },
  {
   "cell_type": "markdown",
   "id": "f657560b",
   "metadata": {},
   "source": [
    "### Full basic dataloaders flow"
   ]
  },
  {
   "cell_type": "code",
   "execution_count": 9,
   "id": "b3071972",
   "metadata": {},
   "outputs": [],
   "source": [
    "bears = DataBlock(\n",
    "    blocks=(ImageBlock, CategoryBlock), \n",
    "    get_items=get_image_files, \n",
    "    splitter=RandomSplitter(valid_pct=0.2, seed=42),\n",
    "    get_y=parent_label,\n",
    "    item_tfms=Resize(128))"
   ]
  },
  {
   "cell_type": "code",
   "execution_count": null,
   "id": "02d86972",
   "metadata": {},
   "outputs": [],
   "source": [
    "bears = bears.new(item_tfms=RandomResizedCrop(128, min_scale=0.3))\n",
    "dls = bears.dataloaders(path)\n",
    "dls.train.show_batch(max_n=4, nrows=1, unique=True)\n"
   ]
  },
  {
   "cell_type": "code",
   "execution_count": null,
   "id": "544d2f81",
   "metadata": {},
   "outputs": [],
   "source": [
    "bears = bears.new(\n",
    "    item_tfms=RandomResizedCrop(224, min_scale=0.5),\n",
    "    batch_tfms=aug_transforms())\n",
    "dls = bears.dataloaders(path)"
   ]
  },
  {
   "cell_type": "markdown",
   "id": "83f14073",
   "metadata": {},
   "source": [
    "## Lesson 4 (MNIST Basics)"
   ]
  },
  {
   "cell_type": "markdown",
   "id": "43eebd40",
   "metadata": {},
   "source": [
    "### Mostly regarding data cleaning"
   ]
  },
  {
   "cell_type": "code",
   "execution_count": null,
   "id": "d09a69fc",
   "metadata": {},
   "outputs": [],
   "source": [
    "# Opening images\n",
    "path = untar_data(URLs.MNIST_SAMPLE)\n",
    "Path.BASE_PATH = path\n",
    "path.ls()\n",
    "(path/'train').ls()\n",
    "threes = (path/'train'/'3').ls().sorted()\n",
    "sevens = (path/'train'/'7').ls().sorted()\n",
    "threes\n"
   ]
  },
  {
   "cell_type": "code",
   "execution_count": null,
   "id": "8e369cde",
   "metadata": {},
   "outputs": [],
   "source": [
    "im3_path = threes[1]\n",
    "im3 = Image.open(im3_path)\n",
    "im3\n"
   ]
  },
  {
   "cell_type": "code",
   "execution_count": null,
   "id": "74cdb819",
   "metadata": {},
   "outputs": [],
   "source": [
    "# Images are stored as tensors 0-255 grey scale\n",
    "df.style.set_properties(**{'font-size':'6pt'}).background_gradient('Greys')\n"
   ]
  },
  {
   "cell_type": "markdown",
   "id": "86dd5a82",
   "metadata": {},
   "source": [
    "### Pixel similarity test"
   ]
  },
  {
   "cell_type": "code",
   "execution_count": null,
   "id": "7efcf762",
   "metadata": {},
   "outputs": [],
   "source": [
    "# Create tensors of images\n",
    "\n",
    "seven_tensors = [tensor(Image.open(o)) for o in sevens]\n",
    "three_tensors = [tensor(Image.open(o)) for o in threes]\n",
    "len(three_tensors),len(seven_tensors)\n"
   ]
  },
  {
   "cell_type": "code",
   "execution_count": null,
   "id": "625f4ded",
   "metadata": {},
   "outputs": [],
   "source": [
    "show_image(three_tensors[1]);\n"
   ]
  },
  {
   "cell_type": "markdown",
   "id": "02b61400",
   "metadata": {},
   "source": [
    "torch.stack to create three dimensional tensor "
   ]
  },
  {
   "cell_type": "code",
   "execution_count": null,
   "id": "da0799e3",
   "metadata": {},
   "outputs": [],
   "source": [
    "stacked_sevens = torch.stack(seven_tensors).float()/255\n",
    "stacked_threes = torch.stack(three_tensors).float()/255\n",
    "stacked_threes.shape\n",
    "\n",
    "len(stacked_threes.shape)\n",
    "stacked_threes.ndim\n",
    "#Three dimensiona;"
   ]
  },
  {
   "cell_type": "code",
   "execution_count": null,
   "id": "12cd1aad",
   "metadata": {},
   "outputs": [],
   "source": [
    "mean3 = stacked_threes.mean(0)\n",
    "# Stacked on the 0 axis"
   ]
  },
  {
   "cell_type": "markdown",
   "id": "23655fad",
   "metadata": {},
   "source": [
    "Mean absolute difference = L1 norm\n",
    "Mean squared error = L2 norm"
   ]
  },
  {
   "cell_type": "markdown",
   "id": "7fc97af9",
   "metadata": {},
   "source": [
    "Broadcasting - effectively 'expands' tensors so they can participate in mathematical operations"
   ]
  },
  {
   "cell_type": "code",
   "execution_count": 15,
   "id": "be33ddab",
   "metadata": {},
   "outputs": [
    {
     "data": {
      "text/plain": [
       "tensor([2, 3, 4])"
      ]
     },
     "execution_count": 15,
     "metadata": {},
     "output_type": "execute_result"
    }
   ],
   "source": [
    "tensor([1,2,3]) + tensor(1)"
   ]
  },
  {
   "cell_type": "code",
   "execution_count": 16,
   "id": "6380426f",
   "metadata": {},
   "outputs": [
    {
     "data": {
      "text/plain": [
       "1.0"
      ]
     },
     "execution_count": 16,
     "metadata": {},
     "output_type": "execute_result"
    }
   ],
   "source": [
    "float(1.0)"
   ]
  },
  {
   "cell_type": "code",
   "execution_count": 21,
   "id": "dc9f482a",
   "metadata": {},
   "outputs": [
    {
     "data": {
      "text/plain": [
       "(True, False, True)"
      ]
     },
     "execution_count": 21,
     "metadata": {},
     "output_type": "execute_result"
    }
   ],
   "source": [
    "bool(float(1.0)), bool(float(0.0)), bool(float(0.5))"
   ]
  },
  {
   "cell_type": "markdown",
   "id": "285ce48f",
   "metadata": {},
   "source": [
    "## SGD / Principles / Basic optimisation\n"
   ]
  },
  {
   "cell_type": "code",
   "execution_count": null,
   "id": "efa19d41",
   "metadata": {},
   "outputs": [],
   "source": [
    "# Fundamentals of SGD"
   ]
  },
  {
   "cell_type": "code",
   "execution_count": 24,
   "id": "42b50f7a",
   "metadata": {},
   "outputs": [
    {
     "data": {
      "image/png": "[encoded data removed]",
      "text/plain": [
       "<Figure size 432x288 with 1 Axes>"
      ]
     },
     "metadata": {
      "needs_background": "light"
     },
     "output_type": "display_data"
    }
   ],
   "source": [
    "def f(x): return x**2\n",
    "plot_function(f, 'x', 'x**2')\n",
    "plt.scatter(-1.5, f(-1.5), color='red');\n",
    "\n",
    "# gradient is negative -> to approach local min pick -(gradient) as direction"
   ]
  },
  {
   "cell_type": "code",
   "execution_count": null,
   "id": "5518533d",
   "metadata": {},
   "outputs": [],
   "source": [
    "# Point where want gradient\n",
    "# equivalent output f(xt)\n",
    "# call backward() on this f(xt) [ the y point ]\n",
    "# 'remembers' the gradient at xt"
   ]
  },
  {
   "cell_type": "code",
   "execution_count": 25,
   "id": "c59c3c22",
   "metadata": {},
   "outputs": [],
   "source": [
    "xt = tensor(3.).requires_grad_()"
   ]
  },
  {
   "cell_type": "code",
   "execution_count": 27,
   "id": "ce568b79",
   "metadata": {},
   "outputs": [],
   "source": [
    "yt = f(xt)\n",
    "yt\n",
    "yt.backward()\n"
   ]
  },
  {
   "cell_type": "code",
   "execution_count": 28,
   "id": "5aae653e",
   "metadata": {},
   "outputs": [
    {
     "data": {
      "text/plain": [
       "tensor(6.)"
      ]
     },
     "execution_count": 28,
     "metadata": {},
     "output_type": "execute_result"
    }
   ],
   "source": [
    "xt.grad\n"
   ]
  },
  {
   "cell_type": "code",
   "execution_count": 29,
   "id": "05690eb2",
   "metadata": {
    "scrolled": true
   },
   "outputs": [
    {
     "ename": "NameError",
     "evalue": "name 'w' is not defined",
     "output_type": "error",
     "traceback": [
      "\u001b[1;31m---------------------------------------------------------------------------\u001b[0m",
      "\u001b[1;31mNameError\u001b[0m                                 Traceback (most recent call last)",
      "\u001b[1;32m~\\AppData\\Local\\Temp/ipykernel_15940/1641522141.py\u001b[0m in \u001b[0;36m<module>\u001b[1;34m\u001b[0m\n\u001b[1;32m----> 1\u001b[1;33m \u001b[0mw\u001b[0m \u001b[1;33m-=\u001b[0m \u001b[0mgradient\u001b[0m\u001b[1;33m(\u001b[0m\u001b[0mw\u001b[0m\u001b[1;33m)\u001b[0m \u001b[1;33m*\u001b[0m \u001b[0mlr\u001b[0m\u001b[1;33m\u001b[0m\u001b[1;33m\u001b[0m\u001b[0m\n\u001b[0m",
      "\u001b[1;31mNameError\u001b[0m: name 'w' is not defined"
     ]
    }
   ],
   "source": [
    "w -= gradient(w) * lr\n"
   ]
  },
  {
   "cell_type": "code",
   "execution_count": 30,
   "id": "2fe569be",
   "metadata": {},
   "outputs": [],
   "source": [
    "def f(t, params):\n",
    "    a,b,c = params\n",
    "    return a*(t**2) + (b*t) + c\n"
   ]
  },
  {
   "cell_type": "code",
   "execution_count": 37,
   "id": "a1dcc1c1",
   "metadata": {},
   "outputs": [],
   "source": [
    "p_container = 2,5,3\n",
    "# This is a tuple"
   ]
  },
  {
   "cell_type": "code",
   "execution_count": null,
   "id": "6d6baa58",
   "metadata": {},
   "outputs": [],
   "source": [
    "def apply_step(params, prn=True):\n",
    "    preds = f(time, params)\n",
    "    loss = mse(preds, speed)\n",
    "    loss.backward()\n",
    "    params.data -= lr * params.grad.data\n",
    "    params.grad = None\n",
    "    if prn: print(loss.item())\n",
    "    return preds\n"
   ]
  },
  {
   "cell_type": "markdown",
   "id": "32aaee8c",
   "metadata": {},
   "source": [
    "1. predicted speed - f(time, params), params is a random tuple\n",
    "(params = torch.randn(3).requires_grad_())\n",
    "2. loss = difference between guess and target (mse)\n",
    "3. calculate gradient at loss\n",
    "4. -> updates params\n",
    "5. "
   ]
  }
 ],
 "metadata": {
  "kernelspec": {
   "display_name": "Python 3 (ipykernel)",
   "language": "python",
   "name": "python3"
  },
  "language_info": {
   "codemirror_mode": {
    "name": "ipython",
    "version": 3
   },
   "file_extension": ".py",
   "mimetype": "text/x-python",
   "name": "python",
   "nbconvert_exporter": "python",
   "pygments_lexer": "ipython3",
   "version": "3.9.5"
  }
 },
 "nbformat": 4,
 "nbformat_minor": 5
}
